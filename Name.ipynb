{
  "nbformat": 4,
  "nbformat_minor": 0,
  "metadata": {
    "colab": {
      "name": "Name.ipynb",
      "provenance": [],
      "authorship_tag": "ABX9TyNtspC042OMASqWx1h+EyNV",
      "include_colab_link": true
    },
    "kernelspec": {
      "name": "python3",
      "display_name": "Python 3"
    },
    "language_info": {
      "name": "python"
    }
  },
  "cells": [
    {
      "cell_type": "markdown",
      "metadata": {
        "id": "view-in-github",
        "colab_type": "text"
      },
      "source": [
        "<a href=\"https://colab.research.google.com/github/antonioolivv/name/blob/main/Name.ipynb\" target=\"_parent\"><img src=\"https://colab.research.google.com/assets/colab-badge.svg\" alt=\"Open In Colab\"/></a>"
      ]
    },
    {
      "cell_type": "code",
      "execution_count": null,
      "metadata": {
        "id": "dIBIVBUvKGSM",
        "colab": {
          "base_uri": "https://localhost:8080/"
        },
        "outputId": "867c3d80-3eda-4425-958a-2527dfe6a4b2"
      },
      "outputs": [
        {
          "output_type": "stream",
          "name": "stdout",
          "text": [
            "Whats your name?Antonio\n",
            "His name has  7  characters\n"
          ]
        }
      ],
      "source": [
        "name=input(\"Whats your name?\")\n",
        "print(\"His name has \",len(name),\" characters\")\n"
      ]
    }
  ]
}