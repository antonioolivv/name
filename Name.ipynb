{
  "nbformat": 4,
  "nbformat_minor": 0,
  "metadata": {
    "colab": {
      "name": "Name.ipynb",
      "provenance": [],
      "authorship_tag": "ABX9TyP9F09B2jOLryKTqMHhu+7+",
      "include_colab_link": true
    },
    "kernelspec": {
      "name": "python3",
      "display_name": "Python 3"
    },
    "language_info": {
      "name": "python"
    }
  },
  "cells": [
    {
      "cell_type": "markdown",
      "metadata": {
        "id": "view-in-github",
        "colab_type": "text"
      },
      "source": [
        "<a href=\"https://colab.research.google.com/github/antonioolivv/name/blob/main/Name.ipynb\" target=\"_parent\"><img src=\"https://colab.research.google.com/assets/colab-badge.svg\" alt=\"Open In Colab\"/></a>"
      ]
    },
    {
      "cell_type": "code",
      "execution_count": 1,
      "metadata": {
        "id": "dIBIVBUvKGSM",
        "colab": {
          "base_uri": "https://localhost:8080/"
        },
        "outputId": "7d845987-d02c-4716-b99d-8dcc5f79bf62"
      },
      "outputs": [
        {
          "output_type": "stream",
          "name": "stdout",
          "text": [
            "Whats your name?Antonio\n",
            "His name is  Antonio\n"
          ]
        }
      ],
      "source": [
        "name=input(\"Whats your name? \")\n",
        "print(\"His name is \",name)\n"
      ]
    }
  ]
}